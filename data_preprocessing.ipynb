{
 "cells": [
  {
   "cell_type": "code",
   "execution_count": 42,
   "metadata": {},
   "outputs": [],
   "source": [
    "f = open(\"data/train.txt\",'r')\n",
    "train = f.readlines()\n",
    "f.close()\n",
    "\n",
    "f = open(\"data/valid.txt\",'r')\n",
    "valid = f.readlines()\n",
    "f.close()\n",
    "\n",
    "f = open(\"data/test.txt\",'r')\n",
    "test = f.readlines()\n",
    "f.close()\n",
    "\n",
    "word_vocab = {'\\n':2, ' ':1, '':0}\n",
    "char_vocab = {'\\n':2, ' ':1, '':0}"
   ]
  },
  {
   "cell_type": "code",
   "execution_count": 188,
   "metadata": {},
   "outputs": [
    {
     "name": "stdout",
     "output_type": "stream",
     "text": [
      "439\n"
     ]
    }
   ],
   "source": [
    "leng = 0\n",
    "for i in train :\n",
    "    cnt = 0\n",
    "    words = i.split()\n",
    "    for word in words :\n",
    "        for j in word :\n",
    "            cnt+=1\n",
    "    if leng < cnt :\n",
    "        leng = cnt\n",
    "print(leng)"
   ]
  },
  {
   "cell_type": "code",
   "execution_count": 260,
   "metadata": {},
   "outputs": [],
   "source": [
    "word_id = 3\n",
    "char_id = 3\n",
    "\n",
    "train_word_data = []\n",
    "train_word_label = []\n",
    "train_char_data = []\n",
    "#train_char_data = np.zeros((1, 520))\n",
    "valid_word_data = []\n",
    "valid_char_data = []\n",
    "test_word_data = []\n",
    "test_char_data = np.zeros((1, 439))\n",
    "cnt = 0\n",
    "for i in train :\n",
    "    data_word = []\n",
    "    label_word = []\n",
    "    data_char = []\n",
    "    words = i.split()\n",
    "    for word in words :\n",
    "        if word not in word_vocab :\n",
    "            word_vocab[word] = word_id\n",
    "            word_id+=1\n",
    "        for j in word :\n",
    "            if j not in char_vocab :\n",
    "                char_vocab[j] = char_id\n",
    "                char_id += 1 \n",
    "            data_char.append(j)\n",
    "        data_word.append(word)\n",
    "        label_word.append(word_vocab[word])\n",
    "        #data_word.append(1)\n",
    "        #data_char.append(1) #space \n",
    "    #data_word.append(2) #\\n\n",
    "    #data_char.append(2)\n",
    "\n",
    "    \"\"\"if len(data_char) < 520 :\n",
    "        j = len(data_char)\n",
    "        for i in range(j, 520) :\n",
    "            data_char.append(0)\"\"\"\n",
    "    \n",
    "    #train_char_data[cnt] = (torch.FloatTensor(data_char))\n",
    "    cnt+=1\n",
    "    train_char_data.append(data_char)\n",
    "    train_word_data.append(data_word)\n",
    "    train_word_label.append(label_word)"
   ]
  },
  {
   "cell_type": "code",
   "execution_count": 45,
   "metadata": {},
   "outputs": [],
   "source": [
    "for i in valid :\n",
    "    words = i.split()\n",
    "    for word in words :\n",
    "        if word not in word_vocab :\n",
    "            word_vocab[word] = word_id\n",
    "            word_id+=1\n",
    "        for j in word :\n",
    "            if j not in char_vocab :\n",
    "                char_vocab[j] = char_id\n",
    "                char_id += 1  \n",
    "            valid_char_data.append(char_vocab[j])\n",
    "        valid_word_data.append(word_vocab[word])\n",
    "        valid_word_data.append(1)\n",
    "        valid_char_data.append(1) #space \n",
    "    valid_word_data.append(0) #\\n\n",
    "    valid_char_data.append(0)"
   ]
  },
  {
   "cell_type": "code",
   "execution_count": 155,
   "metadata": {},
   "outputs": [],
   "source": [
    "for i in test :\n",
    "    words = i.split()\n",
    "    for word in words :\n",
    "        if word not in word_vocab :\n",
    "            word_vocab[word] = word_id\n",
    "            word_occur+=1\n",
    "        for j in word :\n",
    "            if j not in char_vocab :\n",
    "                char_vocab[j] = char_id\n",
    "                char_id= 1  \n",
    "            test_char_data.append(char_vocab[j])\n",
    "        test_word_data.append(word_vocab[word])\n",
    "        test_word_data.append(1)\n",
    "        test_char_data.append(1) #space \n",
    "    test_word_data.append(0) #\\n\n",
    "    test_char_data.append(0)"
   ]
  },
  {
   "cell_type": "code",
   "execution_count": 236,
   "metadata": {},
   "outputs": [
    {
     "data": {
      "text/plain": [
       "tensor([[ 2.,  3.,  4.,  ...,  0.,  0.,  0.],\n",
       "        [25., 11.,  3.,  ...,  0.,  0.,  0.],\n",
       "        [19.,  4., 32.,  ...,  0.,  0.,  0.],\n",
       "        ...,\n",
       "        [ 5.,  3., 15.,  ...,  0.,  0.,  0.],\n",
       "        [11.,  9.,  1.,  ...,  0.,  0.,  0.],\n",
       "        [11.,  6.,  1.,  ...,  0.,  0.,  0.]])"
      ]
     },
     "execution_count": 236,
     "metadata": {},
     "output_type": "execute_result"
    }
   ],
   "source": [
    "train_char_data"
   ]
  },
  {
   "cell_type": "code",
   "execution_count": 261,
   "metadata": {},
   "outputs": [],
   "source": [
    "data = {}\n",
    "data['train_char'] = train_char_data\n",
    "data['train_word'] = train_word_data\n",
    "data['valid_char'] = np.array(valid_char_data)\n",
    "data['valid_word'] = np.array(valid_word_data)\n",
    "data['test_char'] = np.array(test_char_data)\n",
    "data['test_word'] = np.array(test_word_data)\n",
    "data['word_vocab'] = word_vocab\n",
    "data['char_vocab'] = char_vocab"
   ]
  },
  {
   "cell_type": "code",
   "execution_count": 238,
   "metadata": {},
   "outputs": [
    {
     "data": {
      "text/plain": [
       "torch.Size([42068, 520])"
      ]
     },
     "execution_count": 238,
     "metadata": {},
     "output_type": "execute_result"
    }
   ],
   "source": [
    "data['train_char'].shape"
   ]
  },
  {
   "cell_type": "code",
   "execution_count": 116,
   "metadata": {},
   "outputs": [
    {
     "ename": "ValueError",
     "evalue": "cannot reshape array of size 42068 into shape (439,newaxis)",
     "output_type": "error",
     "traceback": [
      "\u001b[1;31m---------------------------------------------------------------------------\u001b[0m",
      "\u001b[1;31mValueError\u001b[0m                                Traceback (most recent call last)",
      "\u001b[1;32m<ipython-input-116-660149da9783>\u001b[0m in \u001b[0;36m<module>\u001b[1;34m\u001b[0m\n\u001b[1;32m----> 1\u001b[1;33m \u001b[0mdata\u001b[0m\u001b[1;33m[\u001b[0m\u001b[1;34m'train_char'\u001b[0m\u001b[1;33m]\u001b[0m\u001b[1;33m.\u001b[0m\u001b[0mreshape\u001b[0m\u001b[1;33m(\u001b[0m\u001b[1;36m439\u001b[0m\u001b[1;33m,\u001b[0m \u001b[1;33m-\u001b[0m\u001b[1;36m1\u001b[0m\u001b[1;33m)\u001b[0m\u001b[1;33m.\u001b[0m\u001b[0mshape\u001b[0m\u001b[1;33m\u001b[0m\u001b[0m\n\u001b[0m",
      "\u001b[1;31mValueError\u001b[0m: cannot reshape array of size 42068 into shape (439,newaxis)"
     ]
    }
   ],
   "source": [
    "data['train_char'].reshape(439, -1).shape"
   ]
  },
  {
   "cell_type": "code",
   "execution_count": 262,
   "metadata": {},
   "outputs": [],
   "source": [
    "import pickle\n",
    "\n",
    "with open('data.pickle', 'wb') as f:\n",
    "    pickle.dump(data, f)"
   ]
  },
  {
   "cell_type": "code",
   "execution_count": 215,
   "metadata": {},
   "outputs": [],
   "source": [
    "import torch.nn as nn\n",
    "import torch\n",
    "import torch.nn.functional as F\n",
    "import torch.optim as optim\n",
    "from torch.autograd import Variable"
   ]
  },
  {
   "cell_type": "code",
   "execution_count": 218,
   "metadata": {},
   "outputs": [],
   "source": [
    "with open('data.pickle', 'rb') as f :\n",
    "    data = pickle.load(f)\n",
    "\n",
    "train_input = data['train_char']\n",
    "train_label = data['train_char']\n",
    "valid_input = torch.from_numpy(data['valid_char'])\n",
    "valid_label = torch.from_numpy(data['valid_char'])"
   ]
  },
  {
   "cell_type": "code",
   "execution_count": 271,
   "metadata": {},
   "outputs": [],
   "source": [
    "def prepare_sequence(seq, to_ix):\n",
    "    idxs = [to_ix[w] for w in seq]\n",
    "    tensor = torch.LongTensor(idxs)\n",
    "    return torch.autograd.Variable(tensor)"
   ]
  },
  {
   "cell_type": "code",
   "execution_count": 277,
   "metadata": {},
   "outputs": [],
   "source": [
    "sentence_in = prepare_sequence(train_input[1], char_vocab)"
   ]
  },
  {
   "cell_type": "code",
   "execution_count": 278,
   "metadata": {},
   "outputs": [
    {
     "data": {
      "text/plain": [
       "torch.Size([64])"
      ]
     },
     "execution_count": 278,
     "metadata": {},
     "output_type": "execute_result"
    }
   ],
   "source": [
    "sentence_in.size()"
   ]
  },
  {
   "cell_type": "code",
   "execution_count": null,
   "metadata": {},
   "outputs": [],
   "source": []
  }
 ],
 "metadata": {
  "kernelspec": {
   "display_name": "Python 3",
   "language": "python",
   "name": "python3"
  },
  "language_info": {
   "codemirror_mode": {
    "name": "ipython",
    "version": 3
   },
   "file_extension": ".py",
   "mimetype": "text/x-python",
   "name": "python",
   "nbconvert_exporter": "python",
   "pygments_lexer": "ipython3",
   "version": "3.6.4"
  }
 },
 "nbformat": 4,
 "nbformat_minor": 2
}
